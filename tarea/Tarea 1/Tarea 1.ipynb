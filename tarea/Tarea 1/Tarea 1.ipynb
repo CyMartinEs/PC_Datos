{
 "cells": [
  {
   "cell_type": "markdown",
   "id": "96e342b3-59f9-4e47-9776-e7f473dec552",
   "metadata": {},
   "source": [
    "# Comparativo de Libros de Mahatma Gandhi"
   ]
  },
  {
   "cell_type": "markdown",
   "id": "5599e3fc-bb14-473f-9616-fdc7000ff98f",
   "metadata": {},
   "source": [
    "## Obtención y Preparación de los Datos"
   ]
  },
  {
   "cell_type": "code",
   "execution_count": 1,
   "id": "6dbd0d7c-afe4-46f3-99b3-b487d56d665c",
   "metadata": {},
   "outputs": [],
   "source": [
    "import gutenbergpy.textget"
   ]
  },
  {
   "cell_type": "code",
   "execution_count": 2,
   "id": "1f30d8cf-91ac-43ab-9f32-ec8d22d33e62",
   "metadata": {},
   "outputs": [],
   "source": [
    "def obtener_libro(id):\n",
    "    raw_book = gutenbergpy.textget.get_text_by_id(id) # with headers\n",
    "    clean_book = gutenbergpy.textget.strip_headers(raw_book) # without headers\n",
    "    return clean_book, raw_book"
   ]
  },
  {
   "cell_type": "code",
   "execution_count": 3,
   "id": "575798fd-ffb7-40b6-abf0-2d0b203b46aa",
   "metadata": {},
   "outputs": [],
   "source": [
    "libro_Health, libro = obtener_libro(40373)"
   ]
  },
  {
   "cell_type": "code",
   "execution_count": 4,
   "id": "2873520e-e52e-446b-88c6-ca9163dd7f8e",
   "metadata": {},
   "outputs": [],
   "source": [
    "libro_Battle, libro = obtener_libro(10366)"
   ]
  },
  {
   "cell_type": "code",
   "execution_count": 5,
   "id": "8106631d-b271-4746-b894-14f108dd799f",
   "metadata": {},
   "outputs": [
    {
     "data": {
      "text/plain": [
       "b\"\\r\\n   A GUIDE TO HEALTH\\r\\n\\r\\n   BY\\r\\n\\r\\n   MAHATMA GANDHI\\r\\n\\r\\n   _Translated from the Hindi_\\r\\n\\r\\n   BY\\r\\n\\r\\n   A. RAMA IYER, M.A.\\r\\n\\r\\n   [Illustration]\\r\\n\\r\\n   1921\\r\\n\\r\\n   S. GANESAN., PUBLISHER,\\r\\n   TRIPLICANE ... MADRAS, S.E.\\r\\n\\r\\n\\r\\n\\r\\n\\r\\nCONTENTS\\r\\n\\r\\n\\r\\n                                                         PAGE\\r\\n\\r\\n  TRANSLATOR'S NOTE                                       vii\\r\\n\\r\\n  INTRODUCTION                                              1\\r\\n\\r\\n  PART I: GENERAL\\r\\n\\r\\n    Chap. I. The Meaning of Health                          9\\r\\n\\r\\n    Chap. II. The Human Body                               11\\r\\n\\r\\n    Chap. III. Air                                         14\\r\\n\\r\\n    Chap. IV. Water                                        25\\r\\n\\r\\n    Chap. V. Food                                          29\\r\\n\\r\\n    Chap. VI. How much and how many times should we eat?   55\\r\\n\\r\\n    Chap. VII. Exercise                                    59\\r\\n\\r\\n    Chap. VIII. Dress                                      64\\r\\n\\r\\n    Chap. IX. Sexual Relat\""
      ]
     },
     "execution_count": 5,
     "metadata": {},
     "output_type": "execute_result"
    }
   ],
   "source": [
    "libro_Health[:1000]"
   ]
  },
  {
   "cell_type": "code",
   "execution_count": 6,
   "id": "40210a18-6bfe-467f-b6da-d8b3516422c5",
   "metadata": {},
   "outputs": [
    {
     "data": {
      "text/plain": [
       "b'[Transcriber\\'s Note: The inconsistent spelling of the original has been\\r\\npreserved in this etext.]\\r\\n\\r\\nFREEDOM\\'S BATTLE\\r\\n\\r\\nBEING A COMPREHENSIVE COLLECTION OF WRITINGS AND SPEECHES ON THE PRESENT\\r\\nSITUATION\\r\\n\\r\\nBY MAHATMA GANDHI\\r\\n\\r\\nSecond Edition\\r\\n\\r\\n1922\\r\\n\\r\\nThe Publishers express their indebtedness to the Editor and Publisher\\r\\nof the \"Young India\" for allowing the free use of the articles\\r\\nappeared in that journal under the name of Mahatma Gandhi, and also to\\r\\nMr. C. Rajagopalachar for the valuable introduction and help rendered in\\r\\nbringing out the book.\\r\\n\\r\\n\\r\\n\\r\\n\\r\\n\\r\\nCONTENTS\\r\\n\\r\\n\\r\\nI. INTRODUCTION\\r\\n\\r\\nII. THE KHILAFAT\\r\\n\\r\\n  Why I have joined the Khilafat Movement\\r\\n\\r\\n  The Turkish Treaty\\r\\n\\r\\n  Turkish Peace Terms\\r\\n\\r\\n  The Suzerainty over Arabia\\r\\n\\r\\n  Further Questions Answered\\r\\n\\r\\n  Mr. Candler\\'s Open Letter\\r\\n\\r\\n  In process of keeping\\r\\n\\r\\n  Appeal to the Viceroy\\r\\n\\r\\n  The Premier\\'s reply\\r\\n\\r\\n  The Muslim Representation\\r\\n\\r\\n  Criticism of the Manifesto\\r\\n\\r\\n  The Mahomedan Decision\\r\\n\\r\\n  Mr. Andrew\\'s Di'"
      ]
     },
     "execution_count": 6,
     "metadata": {},
     "output_type": "execute_result"
    }
   ],
   "source": [
    "libro_Battle[:1000]"
   ]
  },
  {
   "cell_type": "code",
   "execution_count": 9,
   "id": "e6389f70-187e-4ee1-9254-e215d41d4b64",
   "metadata": {},
   "outputs": [],
   "source": [
    "# Combinar los textos para un análisis conjunto\n",
    "# Decodificar si alguno de los textos es binario\n",
    "if isinstance(libro_Health, bytes):\n",
    "    libro_Health = libro_Health.decode('utf-8')\n",
    "\n",
    "if isinstance(libro_Battle, bytes):\n",
    "    libro_Battle = libro_Battle.decode('utf-8')\n",
    "\n",
    "# Combinar los textos\n",
    "#Libros = libro_Health + '\\n' + libro_Battle"
   ]
  },
  {
   "cell_type": "markdown",
   "id": "e1bd2bd6-d8e8-44c8-bfe1-28b1f7c91c23",
   "metadata": {},
   "source": [
    "## Limpieza y Tokenización del Texto"
   ]
  },
  {
   "cell_type": "code",
   "execution_count": 10,
   "id": "59b69e0a-222e-46a7-985a-a403452c8d69",
   "metadata": {},
   "outputs": [
    {
     "name": "stderr",
     "output_type": "stream",
     "text": [
      "[nltk_data] Downloading package punkt to\n",
      "[nltk_data]     C:\\Users\\PC\\AppData\\Roaming\\nltk_data...\n",
      "[nltk_data]   Package punkt is already up-to-date!\n",
      "[nltk_data] Downloading package stopwords to\n",
      "[nltk_data]     C:\\Users\\PC\\AppData\\Roaming\\nltk_data...\n",
      "[nltk_data]   Package stopwords is already up-to-date!\n"
     ]
    }
   ],
   "source": [
    "import re\n",
    "import nltk\n",
    "from nltk.tokenize import word_tokenize\n",
    "\n",
    "# Descargar recursos necesarios de NLTK\n",
    "nltk.download('punkt')\n",
    "nltk.download('stopwords')\n",
    "\n",
    "# Eliminar caracteres no deseados y convertir a minúsculas\n",
    "libro_Health_limpio = re.sub(r'[^\\w\\s]', '', libro_Health.lower())\n",
    "libro_Battle_limpio = re.sub(r'[^\\w\\s]', '', libro_Battle.lower())\n",
    "\n",
    "# Tokenizar el texto en palabras\n",
    "palabras_Health = word_tokenize(libro_Health_limpio)\n",
    "palabras_Battle = word_tokenize(libro_Battle_limpio)"
   ]
  },
  {
   "cell_type": "markdown",
   "id": "ea65f127-3d2f-417d-9d60-800b988f8402",
   "metadata": {},
   "source": [
    "## Eliminación de Palabras Vacías (Stopwords)"
   ]
  },
  {
   "cell_type": "code",
   "execution_count": 11,
   "id": "bed6e57d-0784-4a72-b057-f23998c9180d",
   "metadata": {},
   "outputs": [],
   "source": [
    "from nltk.corpus import stopwords\n",
    "\n",
    "# Obtener lista de stopwords en inglés\n",
    "stop_words = set(stopwords.words('english'))\n",
    "\n",
    "# Filtrar las palabras\n",
    "palabras_Health_filtradas = [word for word in palabras_Health if word not in stop_words]\n",
    "palabras_Battle_filtradas = [word for word in palabras_Battle if word not in stop_words]"
   ]
  },
  {
   "cell_type": "markdown",
   "id": "f46ca3f7-88de-4cc3-a9b1-55dd60c2b342",
   "metadata": {},
   "source": [
    "## Análisis Estadístico Descriptivo"
   ]
  },
  {
   "cell_type": "code",
   "execution_count": 12,
   "id": "919a08c6-1bf0-4514-97c7-7b3466aad6fa",
   "metadata": {},
   "outputs": [
    {
     "name": "stdout",
     "output_type": "stream",
     "text": [
      "Total de palabras Health: 16417\n",
      "Palabras únicas Health: 4139\n",
      "Longitud promedio de palabras Health: 5.98\n"
     ]
    }
   ],
   "source": [
    "num_palabras_Health = len(palabras_Health_filtradas)\n",
    "num_palabras_Health_unicas = len(set(palabras_Health_filtradas))\n",
    "longitud_Health_promedio = sum(len(word) for word in palabras_Health_filtradas) / num_palabras_Health\n",
    "\n",
    "print(f\"Total de palabras Health: {num_palabras_Health}\")\n",
    "print(f\"Palabras únicas Health: {num_palabras_Health_unicas}\")\n",
    "print(f\"Longitud promedio de palabras Health: {longitud_Health_promedio:.2f}\")"
   ]
  },
  {
   "cell_type": "code",
   "execution_count": 13,
   "id": "df7bbe80-d10f-4073-8a32-1bcf737ef235",
   "metadata": {},
   "outputs": [
    {
     "name": "stdout",
     "output_type": "stream",
     "text": [
      "Total de palabras Battle: 36261\n",
      "Palabras únicas Battle: 7003\n",
      "Longitud promedio de palabras Battle: 6.73\n"
     ]
    }
   ],
   "source": [
    "num_palabras_Battle = len(palabras_Battle_filtradas)\n",
    "num_palabras_unicas_Battle = len(set(palabras_Battle_filtradas))\n",
    "longitud_Battle_promedio = sum(len(word) for word in palabras_Battle_filtradas) / num_palabras_Battle\n",
    "\n",
    "print(f\"Total de palabras Battle: {num_palabras_Battle}\")\n",
    "print(f\"Palabras únicas Battle: {num_palabras_unicas_Battle}\")\n",
    "print(f\"Longitud promedio de palabras Battle: {longitud_Battle_promedio:.2f}\")"
   ]
  },
  {
   "cell_type": "markdown",
   "id": "61815fcc-883a-4356-9a90-43d8ecc292b0",
   "metadata": {},
   "source": [
    "## Frecuencia de Palabras y Distribución"
   ]
  },
  {
   "cell_type": "code",
   "execution_count": 15,
   "id": "82e87f1d-b6e8-41d1-876b-a6d8b6e82b71",
   "metadata": {},
   "outputs": [
    {
     "data": {
      "image/png": "[encoded data removed]",
      "text/plain": [
       "<Figure size 1000x500 with 1 Axes>"
      ]
     },
     "metadata": {},
     "output_type": "display_data"
    }
   ],
   "source": [
    "from collections import Counter\n",
    "import matplotlib.pyplot as plt\n",
    "\n",
    "# Contar frecuencias de palabras\n",
    "frecuencias_Health = Counter(palabras_Health_filtradas)\n",
    "\n",
    "# Obtener las 20 palabras más comunes\n",
    "palabras_Health_comunes = frecuencias_Health.most_common(20)\n",
    "palabras_Health, conteos = zip(*palabras_Health_comunes)\n",
    "\n",
    "# Graficar las palabras más frecuentes\n",
    "plt.figure(figsize=(10, 5))\n",
    "plt.bar(palabras_Health, conteos)\n",
    "plt.xticks(rotation=45)\n",
    "plt.title('Palabras más frecuentes Health')\n",
    "plt.xlabel('Palabras')\n",
    "plt.ylabel('Frecuencia')\n",
    "plt.show()\n"
   ]
  },
  {
   "cell_type": "code",
   "execution_count": 16,
   "id": "ec0216da-f4e8-4820-8dc5-0b52ec2bfc59",
   "metadata": {},
   "outputs": [
    {
     "data": {
      "image/png": "[encoded data removed]",
      "text/plain": [
       "<Figure size 1000x500 with 1 Axes>"
      ]
     },
     "metadata": {},
     "output_type": "display_data"
    }
   ],
   "source": [
    "from collections import Counter\n",
    "import matplotlib.pyplot as plt\n",
    "\n",
    "# Contar frecuencias de palabras\n",
    "frecuencias_Battle = Counter(palabras_Battle_filtradas)\n",
    "\n",
    "# Obtener las 20 palabras más comunes\n",
    "palabras_Battle_comunes = frecuencias_Battle.most_common(20)\n",
    "palabras_Battle, conteos = zip(*palabras_Battle_comunes)\n",
    "\n",
    "# Graficar las palabras más frecuentes\n",
    "plt.figure(figsize=(10, 5))\n",
    "plt.bar(palabras_Battle, conteos)\n",
    "plt.xticks(rotation=45)\n",
    "plt.title('Palabras más frecuentes _Battle')\n",
    "plt.xlabel('Palabras')\n",
    "plt.ylabel('Frecuencia')\n",
    "plt.show()"
   ]
  },
  {
   "cell_type": "markdown",
   "id": "910c8d29-858f-47b6-9722-361593f91af6",
   "metadata": {},
   "source": [
    "## Análisis de N-Gramas"
   ]
  },
  {
   "cell_type": "code",
   "execution_count": 18,
   "id": "9cf88c16-b1a8-4378-9d2d-d35939063f73",
   "metadata": {},
   "outputs": [
    {
     "name": "stdout",
     "output_type": "stream",
     "text": [
      "Bigramas _Health más comunes:\n",
      "('fresh', 'air'): 18\n",
      "('hot', 'water'): 17\n",
      "('open', 'air'): 17\n",
      "('cold', 'water'): 15\n",
      "('men', 'women'): 12\n",
      "('every', 'day'): 12\n",
      "('olive', 'oil'): 12\n",
      "('human', 'body'): 11\n",
      "('laws', 'health'): 11\n",
      "('many', 'people'): 11\n",
      "Trigramas más comunes:\n",
      "('goes', 'far', 'say'): 4\n",
      "('serpents', 'wild', 'beasts'): 4\n",
      "('observance', 'laws', 'health'): 3\n",
      "('nutritious', 'elements', 'food'): 3\n",
      "('tea', 'coffee', 'cocoa'): 3\n",
      "('even', 'lower', 'animals'): 3\n",
      "('followed', 'cold', 'bath'): 3\n",
      "('plenty', 'fresh', 'air'): 3\n",
      "('wrapped', 'round', 'body'): 3\n",
      "('object', 'writing', 'pages'): 3\n"
     ]
    }
   ],
   "source": [
    "from nltk.util import ngrams\n",
    "\n",
    "# Generar bigramas y trigramas\n",
    "bigrams_Health = list(ngrams(palabras_Health_filtradas, 2))\n",
    "trigrams_Health = list(ngrams(palabras_Health_filtradas, 3))\n",
    "\n",
    "# Contar frecuencias de bigramas y trigramas\n",
    "frecuencia_bigrams_Health = Counter(bigrams_Health)\n",
    "frecuencia_trigrams_Health = Counter(trigrams_Health)\n",
    "\n",
    "\n",
    "# Imprimir Bigramas más comunes con saltos de línea\n",
    "print(\"Bigramas Health más comunes:\")\n",
    "for bigrams_Health, frecuencia in frecuencia_bigrams_Health.most_common(10):\n",
    "    print(f\"{bigrams_Health}: {frecuencia}\")\n",
    "\n",
    "\n",
    "# Imprimir trigramas más comunes con saltos de línea\n",
    "print(\"Trigramas Health más comunes:\")\n",
    "for trigram_Health, frecuencia in frecuencia_trigrams_Health.most_common(10):\n",
    "    print(f\"{trigram_Health}: {frecuencia}\")\n"
   ]
  },
  {
   "cell_type": "code",
   "execution_count": 19,
   "id": "505e2e3d-3c83-4693-b4e9-2e3f91676e11",
   "metadata": {},
   "outputs": [
    {
     "name": "stdout",
     "output_type": "stream",
     "text": [
      "Bigramas Battle más comunes:\n",
      "('government', 'india'): 41\n",
      "('general', 'dyer'): 34\n",
      "('people', 'india'): 27\n",
      "('mr', 'lloyd'): 27\n",
      "('mr', 'gandhi'): 22\n",
      "('british', 'connection'): 21\n",
      "('indian', 'mahomedans'): 20\n",
      "('peace', 'terms'): 19\n",
      "('hindus', 'mahomedans'): 19\n",
      "('mr', 'montagu'): 17\n",
      "Trigramas Health más comunes:\n",
      "('mr', 'lloyd', 'george'): 15\n",
      "('mr', 'lloyd', 'georges'): 11\n",
      "('sir', 'michael', 'odwyer'): 9\n",
      "('within', 'one', 'year'): 7\n",
      "('lands', 'asia', 'minor'): 6\n",
      "('mr', 'mahomed', 'alis'): 6\n",
      "('violence', 'part', 'people'): 6\n",
      "('mr', 'manilal', 'doctor'): 6\n",
      "('every', 'englishman', 'india'): 5\n",
      "('holy', 'places', 'islam'): 5\n"
     ]
    }
   ],
   "source": [
    "from nltk.util import ngrams\n",
    "\n",
    "# Generar bigramas y trigramas\n",
    "bigrams_Battle= list(ngrams(palabras_Battle_filtradas, 2))\n",
    "trigrams_Battle = list(ngrams(palabras_Battle_filtradas, 3))\n",
    "\n",
    "# Contar frecuencias de bigramas y trigramas\n",
    "frecuencia_bigrams_Battle = Counter(bigrams_Battle)\n",
    "frecuencia_trigrams_Battle = Counter(trigrams_Battle)\n",
    "\n",
    "\n",
    "# Imprimir Bigramas más comunes con saltos de línea\n",
    "print(\"Bigramas Battle más comunes:\")\n",
    "for bigrams_Battle, frecuencia in frecuencia_bigrams_Battle.most_common(10):\n",
    "    print(f\"{bigrams_Battle}: {frecuencia}\")\n",
    "\n",
    "\n",
    "# Imprimir trigramas más comunes con saltos de línea\n",
    "print(\"Trigramas Health más comunes:\")\n",
    "for trigram_Battle, frecuencia in frecuencia_trigrams_Battle.most_common(10):\n",
    "    print(f\"{trigram_Battle}: {frecuencia}\")\n"
   ]
  },
  {
   "cell_type": "markdown",
   "id": "56b775eb-3a02-436c-847b-9a02ad620556",
   "metadata": {},
   "source": [
    "## Análisis de Signos de Puntuación"
   ]
  },
  {
   "cell_type": "code",
   "execution_count": 20,
   "id": "74ea9dc0-1176-4087-86cf-5583b093d9bd",
   "metadata": {},
   "outputs": [
    {
     "name": "stdout",
     "output_type": "stream",
     "text": [
      "Frecuencia Health de signos  de puntuación:\n",
      "'.': 1551\n",
      "',': 2144\n",
      "'[': 5\n",
      "']': 5\n",
      "''': 78\n",
      "':': 10\n",
      "'?': 75\n",
      "'-': 313\n",
      "';': 156\n",
      "'}': 3\n",
      "'!': 49\n",
      "'(': 33\n",
      "')': 33\n",
      "'\"': 68\n",
      "'%': 5\n",
      "'=': 144\n"
     ]
    }
   ],
   "source": [
    "# Encontrar todos los signos de puntuación en el texto original\n",
    "signos_Health = re.findall(r'[^\\w\\s]', libro_Health)\n",
    "\n",
    "# Contar la frecuencia de cada signo de puntuación\n",
    "frecuencia_signos_Health = Counter(signos_Health)\n",
    "\n",
    "# Mostrar las frecuencias de los signos de puntuación\n",
    "print(\"Frecuencia Health de signos  de puntuación:\")\n",
    "for signo_Health, frecuencia in frecuencia_signos_Health.items():\n",
    "    print(f\"'{signo_Health}': {frecuencia}\")"
   ]
  },
  {
   "cell_type": "code",
   "execution_count": 21,
   "id": "fb8c3cba-db10-48a9-bc0b-8301c503cc89",
   "metadata": {},
   "outputs": [
    {
     "name": "stdout",
     "output_type": "stream",
     "text": [
      "Frecuencia Battle de signos  de puntuación:\n",
      "'[': 6\n",
      "''': 476\n",
      "':': 56\n",
      "'.': 3696\n",
      "']': 6\n",
      "'\"': 297\n",
      "',': 2528\n",
      "'-': 1538\n",
      "'?': 212\n",
      "';': 80\n",
      "'*': 45\n",
      "'(': 76\n",
      "')': 76\n",
      "'!': 8\n",
      "'/': 1\n"
     ]
    }
   ],
   "source": [
    "# Encontrar todos los signos de puntuación en el texto original\n",
    "signos_Battle = re.findall(r'[^\\w\\s]', libro_Battle)\n",
    "\n",
    "# Contar la frecuencia de cada signo de puntuación\n",
    "frecuencia_signos_Battle = Counter(signos_Battle)\n",
    "\n",
    "# Mostrar las frecuencias de los signos de puntuación\n",
    "print(\"Frecuencia Battle de signos  de puntuación:\")\n",
    "for signo_Battle, frecuencia in frecuencia_signos_Battle.items():\n",
    "    print(f\"'{signo_Battle}': {frecuencia}\")"
   ]
  },
  {
   "cell_type": "markdown",
   "id": "034713b7-54e1-4a7d-8ba2-fe0df3ff6fe7",
   "metadata": {},
   "source": [
    "## Análisis de Emojis"
   ]
  },
  {
   "cell_type": "code",
   "execution_count": 20,
   "id": "692404b9-058d-4ecb-95af-9f50376074ca",
   "metadata": {},
   "outputs": [
    {
     "name": "stdout",
     "output_type": "stream",
     "text": [
      "Collecting emoji\n",
      "  Downloading emoji-2.14.0-py3-none-any.whl.metadata (5.7 kB)\n",
      "Downloading emoji-2.14.0-py3-none-any.whl (586 kB)\n",
      "   ---------------------------------------- 0.0/586.9 kB ? eta -:--:--\n",
      "   -- ------------------------------------- 30.7/586.9 kB ? eta -:--:--\n",
      "   -- ------------------------------------ 41.0/586.9 kB 653.6 kB/s eta 0:00:01\n",
      "   -- ------------------------------------ 41.0/586.9 kB 653.6 kB/s eta 0:00:01\n",
      "   --------- ---------------------------- 153.6/586.9 kB 913.1 kB/s eta 0:00:01\n",
      "   ------------------- -------------------- 286.7/586.9 kB 1.2 MB/s eta 0:00:01\n",
      "   --------------------------- ------------ 399.4/586.9 kB 1.4 MB/s eta 0:00:01\n",
      "   -------------------------------- ------- 481.3/586.9 kB 1.5 MB/s eta 0:00:01\n",
      "   ---------------------------------------  583.7/586.9 kB 1.5 MB/s eta 0:00:01\n",
      "   ---------------------------------------- 586.9/586.9 kB 1.4 MB/s eta 0:00:00\n",
      "Installing collected packages: emoji\n",
      "Successfully installed emoji-2.14.0\n",
      "Note: you may need to restart the kernel to use updated packages.\n"
     ]
    }
   ],
   "source": [
    "pip install emoji"
   ]
  },
  {
   "cell_type": "code",
   "execution_count": 21,
   "id": "9f13314a-5d6e-4597-b798-b7bb1c900a3b",
   "metadata": {},
   "outputs": [
    {
     "name": "stdout",
     "output_type": "stream",
     "text": [
      "2.14.0\n"
     ]
    }
   ],
   "source": [
    "import emoji\n",
    "print(emoji.__version__)  # Esto debería imprimir la versión instalada\n"
   ]
  },
  {
   "cell_type": "code",
   "execution_count": 22,
   "id": "71ee8d43-d898-4eaf-abd0-c740f10c12b4",
   "metadata": {},
   "outputs": [
    {
     "name": "stdout",
     "output_type": "stream",
     "text": [
      "Emojis más usados Battle:\n"
     ]
    }
   ],
   "source": [
    "import emoji\n",
    "from collections import Counter\n",
    "\n",
    "# Extraer emojis del texto\n",
    "emojis_encontrados_Battle = [char for char in libro_Battle if emoji.is_emoji(char)]\n",
    "\n",
    "# Contar la frecuencia de cada emoji\n",
    "frecuencia_emojis_Battle = Counter(emojis_encontrados_Battle)\n",
    "\n",
    "# Mostrar los emojis más comunes\n",
    "print(\"Emojis más usados Battle:\")\n",
    "for emj, frecuencia in frecuencia_emojis_Battle.most_common(10):\n",
    "    print(f\"'{emj}': {frecuencia}\")\n"
   ]
  },
  {
   "cell_type": "code",
   "execution_count": 23,
   "id": "afd63bf5-3bf3-492d-a36e-02c01eccbcc4",
   "metadata": {},
   "outputs": [
    {
     "name": "stdout",
     "output_type": "stream",
     "text": [
      "Emojis más usados Health :\n"
     ]
    }
   ],
   "source": [
    "import emoji\n",
    "from collections import Counter\n",
    "\n",
    "# Extraer emojis del texto\n",
    "emojis_encontrados_Health  = [char for char in libro_Health  if emoji.is_emoji(char)]\n",
    "\n",
    "# Contar la frecuencia de cada emoji\n",
    "frecuencia_emojis_Health  = Counter(emojis_encontrados_Health )\n",
    "\n",
    "# Mostrar los emojis más comunes\n",
    "print(\"Emojis más usados Health :\")\n",
    "for emj, frecuencia in frecuencia_emojis_Health .most_common(10):\n",
    "    print(f\"'{emj}': {frecuencia}\")\n"
   ]
  },
  {
   "cell_type": "code",
   "execution_count": null,
   "id": "042d8955-5148-47f6-ab77-eea0905e3380",
   "metadata": {},
   "outputs": [],
   "source": []
  }
 ],
 "metadata": {
  "kernelspec": {
   "display_name": "Python 3 (ipykernel)",
   "language": "python",
   "name": "python3"
  },
  "language_info": {
   "codemirror_mode": {
    "name": "ipython",
    "version": 3
   },
   "file_extension": ".py",
   "mimetype": "text/x-python",
   "name": "python",
   "nbconvert_exporter": "python",
   "pygments_lexer": "ipython3",
   "version": "3.11.7"
  }
 },
 "nbformat": 4,
 "nbformat_minor": 5
}
